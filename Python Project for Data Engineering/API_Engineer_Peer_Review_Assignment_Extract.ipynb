{
 "cells": [
  {
   "cell_type": "markdown",
   "metadata": {},
   "source": [
    "<p style=\"text-align:center\">\n",
    "    <a href=\"https://skills.network/?utm_medium=Exinfluencer&utm_source=Exinfluencer&utm_content=000026UJ&utm_term=10006555&utm_id=NA-SkillsNetwork-Channel-SkillsNetworkCoursesIBMDeveloperSkillsNetworkPY0221ENSkillsNetwork899-2023-01-01\">\n",
    "    <img src=\"https://cf-courses-data.s3.us.cloud-object-storage.appdomain.cloud/assets/logos/SN_web_lightmode.png\" width=\"200\" alt=\"Skills Network Logo\"  />\n",
    "    </a>\n",
    "</p>\n"
   ]
  },
  {
   "cell_type": "markdown",
   "metadata": {},
   "source": [
    "# Peer Review Assignment - Data Engineer - Extract API Data\n"
   ]
  },
  {
   "cell_type": "markdown",
   "metadata": {},
   "source": [
    "Estimated time needed: **20** minutes\n"
   ]
  },
  {
   "cell_type": "markdown",
   "metadata": {},
   "source": [
    "## Objectives\n",
    "\n",
    "In this part you will:\n",
    "\n",
    "-   Collect exchange rate data using an API\n",
    "-   Store the data as a CSV\n"
   ]
  },
  {
   "cell_type": "markdown",
   "metadata": {},
   "source": [
    "For this lab, we are going to be using Python and several Python libraries. Some of these libraries might be installed in your lab environment or in SN Labs. Others may need to be installed by you. The cells below will install these libraries when executed.\n"
   ]
  },
  {
   "cell_type": "code",
   "execution_count": 1,
   "metadata": {
    "tags": []
   },
   "outputs": [],
   "source": [
    "#!mamba install pandas==1.3.3 -y\n",
    "#!mamba install requests==2.26.0 -y"
   ]
  },
  {
   "cell_type": "markdown",
   "metadata": {},
   "source": [
    "## Imports\n",
    "\n",
    "Import any additional libraries you may need here.\n"
   ]
  },
  {
   "cell_type": "code",
   "execution_count": 2,
   "metadata": {
    "tags": []
   },
   "outputs": [],
   "source": [
    "import requests\n",
    "import pandas as pd"
   ]
  },
  {
   "cell_type": "markdown",
   "metadata": {},
   "source": [
    "## Extract Data Using an API\n"
   ]
  },
  {
   "cell_type": "markdown",
   "metadata": {},
   "source": [
    "Using ExchangeRate-API we will extract currency exchange rate data. Use the below steps to get the access key and to get the data. \n",
    "1. Open the url : https://exchangeratesapi.io/ and click on **Get Free API Key**. \n",
    "2. Subscribe for Free plan and Sign-in with the Google Account. \n",
    "3. Once the account is created you will be redirected to https://apilayer.com website.\n",
    "2. Now, click on the **user icon** and click **Account** as shown below:\n",
    "\n",
    "<img src=\"https://cf-courses-data.s3.us.cloud-object-storage.appdomain.cloud/IBMDeveloperSkillsNetwork-PY0221EN-SkillsNetwork/labs/module%206/Final%20Assignment/Images/account.png\">\n",
    "\n",
    "3. Scroll down and you will get the API Key section. Copy the API key and use in the url in Question 1.\n"
   ]
  },
  {
   "cell_type": "markdown",
   "metadata": {},
   "source": [
    "### Call the API\n",
    "\n",
    " <b> Question 1</b> Using the `requests` library call the endpoint given above and save the text, remember the first few characters of the output: \n"
   ]
  },
  {
   "cell_type": "code",
   "execution_count": 10,
   "metadata": {
    "tags": []
   },
   "outputs": [],
   "source": [
    "# Write your code here\n",
    "url = \"http://api.exchangeratesapi.io/v1/latest?access_key=8530ae0968db9435754443eb8e03d996\" #Make sure to change ******* to your API key."
   ]
  },
  {
   "cell_type": "markdown",
   "metadata": {},
   "source": [
    "### Save as DataFrame\n",
    "\n",
    " <b> Question 2</b>  Using the data gathered turn it into a `pandas` dataframe. The dataframe should have the Currency as the index and `Rate` as their columns. Make sure to drop unnecessary columns.\n"
   ]
  },
  {
   "cell_type": "code",
   "execution_count": 11,
   "metadata": {
    "tags": []
   },
   "outputs": [
    {
     "data": {
      "text/plain": [
       "'{\"success\":true,\"timestamp\":1685081883,\"base\":\"EUR\",\"date\":\"2023-05-26\",\"rates\":{\"AED\":3.940467,\"AFN\":93.904499,\"ALL\":110.685689,\"AMD\":413.18617,\"ANG\":1.933443,\"AOA\":592.86536,\"ARS\":252.950962,\"AUD\":1.647518,\"AWG\":1.931496,\"AZN\":1.816114,\"BAM\":1.956755,\"BBD\":2.166077,\"BDT\":115.01611,\"BGN\":1.953928,\"BHD\":0.404507,\"BIF\":3026.176317,\"BMD\":1.073053,\"BND\":1.451695,\"BOB\":7.412616,\"BRL\":5.404469,\"BSD\":1.072823,\"BTC\":4.0669848e-5,\"BTN\":88.740684,\"BWP\":14.63614,\"BYN\":2.707771,\"BYR\":21031.848365,\"BZD\":2.162475,\"CAD\":1.463355,\"CDF\":2494.849603,\"CHF\":0.971366,\"CLF\":0.031439,\"CLP\":867.499089,\"CNY\":7.573616,\"COP\":4820.156268,\"CRC\":575.980992,\"CUC\":1.073053,\"CUP\":28.435917,\"CVE\":110.319707,\"CZK\":23.627548,\"DJF\":191.013186,\"DKK\":7.449716,\"DOP\":58.5457,\"DZD\":146.737931,\"EGP\":33.164647,\"ERN\":16.095802,\"ETB\":58.277257,\"EUR\":1,\"FJD\":2.411956,\"FKP\":0.870791,\"GBP\":0.869903,\"GEL\":2.741653,\"GGP\":0.870791,\"GHS\":11.830415,\"GIP\":0.870791,\"GMD\":63.932671,\"GNF\":9221.455709,\"GTQ\":8.372773,\"GYD\":226.900693,\"HKD\":8.406532,\"HNL\":26.47227,\"HRK\":7.451649,\"HTG\":151.802642,\"HUF\":372.668414,\"IDR\":16056.099341,\"ILS\":4.004727,\"IMP\":0.870791,\"INR\":88.761163,\"IQD\":1405.700069,\"IRR\":45416.988835,\"ISK\":150.098298,\"JEP\":0.870791,\"JMD\":165.390686,\"JOD\":0.761333,\"JPY\":149.99786,\"KES\":148.39995,\"KGS\":93.988804,\"KHR\":4412.395656,\"KMF\":492.692623,\"KPW\":965.761594,\"KRW\":1422.18755,\"KWD\":0.329986,\"KYD\":0.894036,\"KZT\":478.523447,\"LAK\":18941.539762,\"LBP\":16219.20378,\"LKR\":324.418267,\"LRD\":180.112429,\"LSL\":21.257387,\"LTL\":3.168448,\"LVL\":0.64908,\"LYD\":5.159517,\"MAD\":10.953196,\"MDL\":19.09596,\"MGA\":4735.385405,\"MKD\":61.649214,\"MMK\":2252.899074,\"MNT\":3739.00257,\"MOP\":8.654822,\"MRO\":383.079911,\"MUR\":48.988746,\"MVR\":16.415111,\"MWK\":1098.806768,\"MXN\":19.130393,\"MYR\":4.962876,\"MZN\":67.870431,\"NAD\":21.257164,\"NGN\":494.677355,\"NIO\":39.219669,\"NOK\":11.860524,\"NPR\":141.991594,\"NZD\":1.768634,\"OMR\":0.413147,\"PAB\":1.072823,\"PEN\":3.95636,\"PGK\":3.782525,\"PHP\":59.855084,\"PKR\":306.391173,\"PLN\":4.506456,\"PYG\":7765.860938,\"QAR\":3.907006,\"RON\":4.953538,\"RSD\":117.247183,\"RUB\":85.885594,\"RWF\":1215.233075,\"SAR\":4.024168,\"SBD\":8.943007,\"SCR\":14.116428,\"SDG\":645.448933,\"SEK\":11.600353,\"SGD\":1.451557,\"SHP\":1.305638,\"SLE\":24.240577,\"SLL\":21192.806759,\"SOS\":610.033857,\"SRD\":40.08225,\"STD\":22210.040715,\"SVC\":9.386579,\"SYP\":2696.092373,\"SZL\":21.257186,\"THB\":37.174892,\"TJS\":11.714424,\"TMT\":3.766418,\"TND\":3.321633,\"TOP\":2.555368,\"TRY\":21.438407,\"TTD\":7.295559,\"TWD\":32.942205,\"TZS\":2532.406903,\"UAH\":39.62293,\"UGX\":4001.952348,\"USD\":1.073053,\"UYU\":41.45868,\"UZS\":12270.366652,\"VEF\":2790364.714333,\"VES\":28.003357,\"VND\":25195.295898,\"VUV\":129.265825,\"WST\":2.918974,\"XAF\":656.277164,\"XAG\":0.046718,\"XAU\":0.000551,\"XCD\":2.899981,\"XDR\":0.804292,\"XOF\":656.277164,\"XPF\":119.806231,\"YER\":268.639083,\"ZAR\":21.236478,\"ZMK\":9658.76635,\"ZMW\":20.759321,\"ZWL\":345.522785}}'"
      ]
     },
     "execution_count": 11,
     "metadata": {},
     "output_type": "execute_result"
    }
   ],
   "source": [
    "# Turn the data into a dataframe\n",
    "response = requests.get(url).text\n",
    "response"
   ]
  },
  {
   "cell_type": "code",
   "execution_count": 20,
   "metadata": {
    "tags": []
   },
   "outputs": [
    {
     "data": {
      "text/html": [
       "<div>\n",
       "<style scoped>\n",
       "    .dataframe tbody tr th:only-of-type {\n",
       "        vertical-align: middle;\n",
       "    }\n",
       "\n",
       "    .dataframe tbody tr th {\n",
       "        vertical-align: top;\n",
       "    }\n",
       "\n",
       "    .dataframe thead th {\n",
       "        text-align: right;\n",
       "    }\n",
       "</style>\n",
       "<table border=\"1\" class=\"dataframe\">\n",
       "  <thead>\n",
       "    <tr style=\"text-align: right;\">\n",
       "      <th></th>\n",
       "      <th>rates</th>\n",
       "    </tr>\n",
       "  </thead>\n",
       "  <tbody>\n",
       "    <tr>\n",
       "      <th>AED</th>\n",
       "      <td>3.940467</td>\n",
       "    </tr>\n",
       "    <tr>\n",
       "      <th>AFN</th>\n",
       "      <td>93.904499</td>\n",
       "    </tr>\n",
       "    <tr>\n",
       "      <th>ALL</th>\n",
       "      <td>110.685689</td>\n",
       "    </tr>\n",
       "    <tr>\n",
       "      <th>AMD</th>\n",
       "      <td>413.186170</td>\n",
       "    </tr>\n",
       "    <tr>\n",
       "      <th>ANG</th>\n",
       "      <td>1.933443</td>\n",
       "    </tr>\n",
       "  </tbody>\n",
       "</table>\n",
       "</div>"
      ],
      "text/plain": [
       "          rates\n",
       "AED    3.940467\n",
       "AFN   93.904499\n",
       "ALL  110.685689\n",
       "AMD  413.186170\n",
       "ANG    1.933443"
      ]
     },
     "execution_count": 20,
     "metadata": {},
     "output_type": "execute_result"
    }
   ],
   "source": [
    "# Drop unnescessary columns\n",
    "data = pd.read_json(response)\n",
    "data.drop(['success','timestamp','base','date'],axis = 1,inplace = True)\n",
    "data.head()"
   ]
  },
  {
   "cell_type": "markdown",
   "metadata": {},
   "source": [
    "### Load the Data\n",
    "\n",
    "Using the dataframe save it as a CSV names `exchange_rates_1.csv`.\n"
   ]
  },
  {
   "cell_type": "code",
   "execution_count": 21,
   "metadata": {
    "tags": []
   },
   "outputs": [],
   "source": [
    "# Save the Dataframe\n",
    "pd.DataFrame.to_csv(data,\"exchange_rates_1.csv\")"
   ]
  },
  {
   "cell_type": "markdown",
   "metadata": {},
   "source": [
    "Your CSV should be in this format with more currencies\n",
    "\n",
    "| | Rates |\n",
    "| ------- | ------- |\n",
    "|  AED| 4.398618    |\n",
    "|  AFN| 92.917693   |  \n",
    "|  ALL| 123.099093  |\n",
    "|  AMD| 621.935674  |\n",
    "|  ANG| 2.149648    | \n"
   ]
  },
  {
   "cell_type": "markdown",
   "metadata": {},
   "source": [
    "## Authors\n"
   ]
  },
  {
   "cell_type": "markdown",
   "metadata": {},
   "source": [
    "Ramesh Sannareddy, Joseph Santarcangelo and Azim Hirjani\n"
   ]
  },
  {
   "cell_type": "markdown",
   "metadata": {},
   "source": [
    "### Other Contributors\n"
   ]
  },
  {
   "cell_type": "markdown",
   "metadata": {},
   "source": [
    "Rav Ahuja\n"
   ]
  },
  {
   "cell_type": "markdown",
   "metadata": {},
   "source": [
    "## Change Log\n"
   ]
  },
  {
   "cell_type": "markdown",
   "metadata": {},
   "source": [
    "| Date (YYYY-MM-DD) | Version | Changed By        | Change Description                 |\n",
    "| ----------------- | ------- | ----------------- | ---------------------------------- |\n",
    "| 2022-05-06        | 0.3     | Malika            | Updated instructions to get the API and the url|\n",
    "| 2021-04-15        | 0.2     | Malika            | Updated the lab from USD to EUR    |\n",
    "| 2020-11-25        | 0.1     | Ramesh Sannareddy | Created initial version of the lab |\n"
   ]
  },
  {
   "cell_type": "markdown",
   "metadata": {},
   "source": [
    " Copyright © 2020 IBM Corporation. This notebook and its source code are released under the terms of the [MIT License](https://cognitiveclass.ai/mit-license?utm_medium=Exinfluencer&utm_source=Exinfluencer&utm_content=000026UJ&utm_term=10006555&utm_id=NA-SkillsNetwork-Channel-SkillsNetworkCoursesIBMDeveloperSkillsNetworkPY0221ENSkillsNetwork899-2023-01-01&cm_mmc=Email_Newsletter-_-Developer_Ed%2BTech-_-WW_WW-_-SkillsNetwork-Courses-IBM-DA0321EN-SkillsNetwork-21426264&cm_mmca1=000026UJ&cm_mmca2=10006555&cm_mmca3=M12345678&cvosrc=email.Newsletter.M12345678&cvo_campaign=000026UJ).\n"
   ]
  }
 ],
 "metadata": {
  "kernelspec": {
   "display_name": "Python",
   "language": "python",
   "name": "conda-env-python-py"
  },
  "language_info": {
   "codemirror_mode": {
    "name": "ipython",
    "version": 3
   },
   "file_extension": ".py",
   "mimetype": "text/x-python",
   "name": "python",
   "nbconvert_exporter": "python",
   "pygments_lexer": "ipython3",
   "version": "3.7.12"
  }
 },
 "nbformat": 4,
 "nbformat_minor": 4
}
